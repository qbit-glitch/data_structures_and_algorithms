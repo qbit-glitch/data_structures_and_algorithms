{
 "cells": [
  {
   "cell_type": "markdown",
   "id": "913af5e1",
   "metadata": {},
   "source": [
    "# Arrays - 1"
   ]
  },
  {
   "cell_type": "markdown",
   "id": "e742fda5",
   "metadata": {},
   "source": [
    "## Q1. Longest Common Prefix\n",
    "\n",
    "Link: https://leetcode.com/problems/longest-common-prefix/description/\n",
    "\n"
   ]
  },
  {
   "cell_type": "code",
   "execution_count": null,
   "id": "d52a5d50",
   "metadata": {},
   "outputs": [
    {
     "name": "stdout",
     "output_type": "stream",
     "text": [
      "fl\n"
     ]
    }
   ],
   "source": [
    "class Solution:\n",
    "    def longestCommonSubequence(self, strs) -> str:\n",
    "        res = \"\"\n",
    "        for i in range(len(strs[0])):\n",
    "            for s in strs:\n",
    "                if i == len(s) or  s[i] != strs[0][i]:\n",
    "                    return res\n",
    "            res += strs[0][i]\n",
    "        return res\n",
    "\n",
    "strs = [\"flowers\", \"flow\", \"flight\"]\n",
    "solution = Solution()\n",
    "print(solution.longestCommonSubequence(strs))"
   ]
  },
  {
   "cell_type": "markdown",
   "id": "ee818393",
   "metadata": {},
   "source": [
    "## Q2. Group Anagrams\n",
    "\n",
    "Leetcode Link: https://leetcode.com/problems/group-anagrams/description/\n",
    "\n"
   ]
  },
  {
   "cell_type": "code",
   "execution_count": null,
   "id": "91fbe961",
   "metadata": {},
   "outputs": [],
   "source": []
  }
 ],
 "metadata": {
  "kernelspec": {
   "display_name": "venv1",
   "language": "python",
   "name": "python3"
  },
  "language_info": {
   "codemirror_mode": {
    "name": "ipython",
    "version": 3
   },
   "file_extension": ".py",
   "mimetype": "text/x-python",
   "name": "python",
   "nbconvert_exporter": "python",
   "pygments_lexer": "ipython3",
   "version": "3.13.5"
  }
 },
 "nbformat": 4,
 "nbformat_minor": 5
}
